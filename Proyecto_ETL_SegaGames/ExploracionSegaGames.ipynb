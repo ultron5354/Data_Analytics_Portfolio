{
 "cells": [
  {
   "cell_type": "code",
   "execution_count": null,
   "id": "fbc80fa2",
   "metadata": {},
   "outputs": [],
   "source": [
    "\"\"\"\n",
    "    Problema a resolver: Se busca conocer cuales son los juegos de Sega con mejor puntuacion\n",
    "    entre las plataformas de Switch, PC, XONE y PS4. A su vez, cual de ellos tiene la mejor puntuacion\n",
    "\"\"\""
   ]
  },
  {
   "cell_type": "code",
   "execution_count": 3,
   "id": "ed1022ee",
   "metadata": {},
   "outputs": [],
   "source": [
    "#Comenzamos importando pandas y creando un DataFrame con los datos extraidos de un archivo de Excel\n",
    "import pandas as pd\n",
    "\n",
    "DF=pd.read_csv(\"SegaGames.csv\", nrows = 1000)"
   ]
  },
  {
   "cell_type": "code",
   "execution_count": 8,
   "id": "d7553d16",
   "metadata": {},
   "outputs": [
    {
     "data": {
      "text/plain": [
       "array(['meta_score', 'title', 'platform', 'date', 'user_score', 'link',\n",
       "       'esrb_rating', 'developers', 'genres'], dtype=object)"
      ]
     },
     "execution_count": 8,
     "metadata": {},
     "output_type": "execute_result"
    }
   ],
   "source": [
    "#Visualizamos que el nombre de las columnas que tenemos disponibles\n",
    "DF.columns.values"
   ]
  },
  {
   "cell_type": "code",
   "execution_count": 9,
   "id": "96f41377",
   "metadata": {},
   "outputs": [
    {
     "data": {
      "text/plain": [
       "521"
      ]
     },
     "execution_count": 9,
     "metadata": {},
     "output_type": "execute_result"
    }
   ],
   "source": [
    "#Nos interesa saber si tenemos valores nulos en la columna 'meta_score'\n",
    "DF['meta_score'].isnull().sum()"
   ]
  },
  {
   "cell_type": "code",
   "execution_count": 50,
   "id": "178ef487",
   "metadata": {},
   "outputs": [],
   "source": [
    "#Como nos interesa saber solo la puntuacion en 'meta_score', \n",
    "# creamos una segunda tabla solo con los valores no nulos en meta_score\n",
    "DF_score = DF[DF.meta_score.notnull()]"
   ]
  },
  {
   "cell_type": "code",
   "execution_count": 51,
   "id": "1c7e1eb7",
   "metadata": {
    "scrolled": true
   },
   "outputs": [],
   "source": [
    "#Al interesarnos solo el puntaje,nombre y la plataforma , realizamos una transformacion de la tabla\n",
    "DF_score=DF_score.drop(['date','user_score', 'link',\n",
    "       'esrb_rating', 'developers', 'genres'], axis=1)\n"
   ]
  },
  {
   "cell_type": "code",
   "execution_count": 73,
   "id": "e1eb1c32",
   "metadata": {},
   "outputs": [
    {
     "data": {
      "text/html": [
       "<div>\n",
       "<style scoped>\n",
       "    .dataframe tbody tr th:only-of-type {\n",
       "        vertical-align: middle;\n",
       "    }\n",
       "\n",
       "    .dataframe tbody tr th {\n",
       "        vertical-align: top;\n",
       "    }\n",
       "\n",
       "    .dataframe thead th {\n",
       "        text-align: right;\n",
       "    }\n",
       "</style>\n",
       "<table border=\"1\" class=\"dataframe\">\n",
       "  <thead>\n",
       "    <tr style=\"text-align: right;\">\n",
       "      <th></th>\n",
       "      <th>meta_score</th>\n",
       "      <th>title</th>\n",
       "      <th>platform</th>\n",
       "    </tr>\n",
       "  </thead>\n",
       "  <tbody>\n",
       "    <tr>\n",
       "      <th>67</th>\n",
       "      <td>94.0</td>\n",
       "      <td>Persona 5 Royal</td>\n",
       "      <td>Switch</td>\n",
       "    </tr>\n",
       "  </tbody>\n",
       "</table>\n",
       "</div>"
      ],
      "text/plain": [
       "    meta_score            title platform\n",
       "67        94.0  Persona 5 Royal   Switch"
      ]
     },
     "execution_count": 73,
     "metadata": {},
     "output_type": "execute_result"
    }
   ],
   "source": [
    "#Buscaremos ahora el mejor puntaje en switch haciendo una transformacion\n",
    "juegosSwitch = DF_score[(DF_score['platform']=='Switch')]\n",
    "mejoresSwitch= juegosSwitch.sort_values('meta_score', ascending=True)\n",
    "#Obtenemos el mejor puntaje de entre los juegos de Switch\n",
    "mejoresSwitch.tail(1)\n"
   ]
  },
  {
   "cell_type": "code",
   "execution_count": 72,
   "id": "4b20cd21",
   "metadata": {},
   "outputs": [
    {
     "data": {
      "text/html": [
       "<div>\n",
       "<style scoped>\n",
       "    .dataframe tbody tr th:only-of-type {\n",
       "        vertical-align: middle;\n",
       "    }\n",
       "\n",
       "    .dataframe tbody tr th {\n",
       "        vertical-align: top;\n",
       "    }\n",
       "\n",
       "    .dataframe thead th {\n",
       "        text-align: right;\n",
       "    }\n",
       "</style>\n",
       "<table border=\"1\" class=\"dataframe\">\n",
       "  <thead>\n",
       "    <tr style=\"text-align: right;\">\n",
       "      <th></th>\n",
       "      <th>meta_score</th>\n",
       "      <th>title</th>\n",
       "      <th>platform</th>\n",
       "    </tr>\n",
       "  </thead>\n",
       "  <tbody>\n",
       "    <tr>\n",
       "      <th>66</th>\n",
       "      <td>95.0</td>\n",
       "      <td>Persona 5 Royal</td>\n",
       "      <td>PC</td>\n",
       "    </tr>\n",
       "  </tbody>\n",
       "</table>\n",
       "</div>"
      ],
      "text/plain": [
       "    meta_score            title platform\n",
       "66        95.0  Persona 5 Royal       PC"
      ]
     },
     "execution_count": 72,
     "metadata": {},
     "output_type": "execute_result"
    }
   ],
   "source": [
    "#Hacemos lo mismo para conseguir los datos de PC\n",
    "juegosPC = DF_score[(DF_score['platform']=='PC')]\n",
    "mejoresPC = juegosPC.sort_values('meta_score', ascending=True)\n",
    "#Obtenemos el mejor puntaje de entre los juegos de PC\n",
    "mejoresPC.tail(1)"
   ]
  },
  {
   "cell_type": "code",
   "execution_count": 75,
   "id": "e073ab54",
   "metadata": {},
   "outputs": [
    {
     "data": {
      "text/html": [
       "<div>\n",
       "<style scoped>\n",
       "    .dataframe tbody tr th:only-of-type {\n",
       "        vertical-align: middle;\n",
       "    }\n",
       "\n",
       "    .dataframe tbody tr th {\n",
       "        vertical-align: top;\n",
       "    }\n",
       "\n",
       "    .dataframe thead th {\n",
       "        text-align: right;\n",
       "    }\n",
       "</style>\n",
       "<table border=\"1\" class=\"dataframe\">\n",
       "  <thead>\n",
       "    <tr style=\"text-align: right;\">\n",
       "      <th></th>\n",
       "      <th>meta_score</th>\n",
       "      <th>title</th>\n",
       "      <th>platform</th>\n",
       "    </tr>\n",
       "  </thead>\n",
       "  <tbody>\n",
       "    <tr>\n",
       "      <th>195</th>\n",
       "      <td>90.0</td>\n",
       "      <td>Yakuza 0</td>\n",
       "      <td>XONE</td>\n",
       "    </tr>\n",
       "  </tbody>\n",
       "</table>\n",
       "</div>"
      ],
      "text/plain": [
       "     meta_score     title platform\n",
       "195        90.0  Yakuza 0     XONE"
      ]
     },
     "execution_count": 75,
     "metadata": {},
     "output_type": "execute_result"
    }
   ],
   "source": [
    "#Hacemos lo mismo para conseguir los datos de XONE\n",
    "juegosXONE = DF_score[(DF_score['platform']=='XONE')]\n",
    "mejoresXONE = juegosXONE.sort_values('meta_score', ascending=True)\n",
    "#Obtenemos el mejor puntaje de entre los juegos de XONE\n",
    "mejoresXONE.tail(1)"
   ]
  },
  {
   "cell_type": "code",
   "execution_count": 76,
   "id": "7402b945",
   "metadata": {},
   "outputs": [
    {
     "data": {
      "text/html": [
       "<div>\n",
       "<style scoped>\n",
       "    .dataframe tbody tr th:only-of-type {\n",
       "        vertical-align: middle;\n",
       "    }\n",
       "\n",
       "    .dataframe tbody tr th {\n",
       "        vertical-align: top;\n",
       "    }\n",
       "\n",
       "    .dataframe thead th {\n",
       "        text-align: right;\n",
       "    }\n",
       "</style>\n",
       "<table border=\"1\" class=\"dataframe\">\n",
       "  <thead>\n",
       "    <tr style=\"text-align: right;\">\n",
       "      <th></th>\n",
       "      <th>meta_score</th>\n",
       "      <th>title</th>\n",
       "      <th>platform</th>\n",
       "    </tr>\n",
       "  </thead>\n",
       "  <tbody>\n",
       "    <tr>\n",
       "      <th>330</th>\n",
       "      <td>87.0</td>\n",
       "      <td>Sonic Mania Plus</td>\n",
       "      <td>PS4</td>\n",
       "    </tr>\n",
       "  </tbody>\n",
       "</table>\n",
       "</div>"
      ],
      "text/plain": [
       "     meta_score             title platform\n",
       "330        87.0  Sonic Mania Plus      PS4"
      ]
     },
     "execution_count": 76,
     "metadata": {},
     "output_type": "execute_result"
    }
   ],
   "source": [
    "#Hacemos lo mismo para conseguir los datos de PS4\n",
    "juegosPS4 = DF_score[(DF_score['platform']=='PS4')]\n",
    "mejoresPS4 = juegosPS4.sort_values('meta_score', ascending=True)\n",
    "#Obtenemos el mejor puntaje de entre los juegos de PS4\n",
    "mejoresPS4.tail(1)"
   ]
  },
  {
   "cell_type": "code",
   "execution_count": 80,
   "id": "2aeba4b0",
   "metadata": {},
   "outputs": [
    {
     "data": {
      "text/html": [
       "<div>\n",
       "<style scoped>\n",
       "    .dataframe tbody tr th:only-of-type {\n",
       "        vertical-align: middle;\n",
       "    }\n",
       "\n",
       "    .dataframe tbody tr th {\n",
       "        vertical-align: top;\n",
       "    }\n",
       "\n",
       "    .dataframe thead th {\n",
       "        text-align: right;\n",
       "    }\n",
       "</style>\n",
       "<table border=\"1\" class=\"dataframe\">\n",
       "  <thead>\n",
       "    <tr style=\"text-align: right;\">\n",
       "      <th></th>\n",
       "      <th>meta_score</th>\n",
       "      <th>title</th>\n",
       "      <th>platform</th>\n",
       "    </tr>\n",
       "  </thead>\n",
       "  <tbody>\n",
       "    <tr>\n",
       "      <th>66</th>\n",
       "      <td>95.0</td>\n",
       "      <td>Persona 5 Royal</td>\n",
       "      <td>PC</td>\n",
       "    </tr>\n",
       "  </tbody>\n",
       "</table>\n",
       "</div>"
      ],
      "text/plain": [
       "    meta_score            title platform\n",
       "66        95.0  Persona 5 Royal       PC"
      ]
     },
     "execution_count": 80,
     "metadata": {},
     "output_type": "execute_result"
    }
   ],
   "source": [
    "#Conseguidos todos los valores que necesitamos, ahora queremos el juego mejor puntuado ,sea de la plataforma que fuere\n",
    "mejorJuego=DF_score.sort_values('meta_score',ascending = True)\n",
    "mejorJuego.tail(1)"
   ]
  },
  {
   "cell_type": "code",
   "execution_count": null,
   "id": "129c0633",
   "metadata": {},
   "outputs": [],
   "source": [
    "\"\"\"\n",
    "Hemos respondido las preguntas planteadas:\n",
    "    \n",
    "-El juego mejor puntuado de Switch es 'Persona 5 Royal' con 94.0\n",
    "-El juego mejor puntuado de PC es 'Persona 5 Royal' con 95.0\n",
    "-El juego mejor puntuado de XONE es 'Yakuza Zero' con 90.0\n",
    "-El juego mejor puntuado de PS4 es 'Sonic Mania Plus' con 87\n",
    "\n",
    "-El juego con la mejor puntuacion es 'Persona 5 Royal' de PC con puntuacion de 95.0\n",
    "\"\"\""
   ]
  }
 ],
 "metadata": {
  "kernelspec": {
   "display_name": "Python 3 (ipykernel)",
   "language": "python",
   "name": "python3"
  },
  "language_info": {
   "codemirror_mode": {
    "name": "ipython",
    "version": 3
   },
   "file_extension": ".py",
   "mimetype": "text/x-python",
   "name": "python",
   "nbconvert_exporter": "python",
   "pygments_lexer": "ipython3",
   "version": "3.11.3"
  }
 },
 "nbformat": 4,
 "nbformat_minor": 5
}
